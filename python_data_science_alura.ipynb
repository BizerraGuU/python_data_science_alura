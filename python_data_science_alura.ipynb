{
  "nbformat": 4,
  "nbformat_minor": 0,
  "metadata": {
    "colab": {
      "provenance": [],
      "authorship_tag": "ABX9TyOg3D2ZhtFtdtQD2Ey8QdrN",
      "include_colab_link": true
    },
    "kernelspec": {
      "name": "python3",
      "display_name": "Python 3"
    },
    "language_info": {
      "name": "python"
    }
  },
  "cells": [
    {
      "cell_type": "markdown",
      "metadata": {
        "id": "view-in-github",
        "colab_type": "text"
      },
      "source": [
        "<a href=\"https://colab.research.google.com/github/BizerraGuU/python_data_science_alura/blob/main/python_data_science_alura.ipynb\" target=\"_parent\"><img src=\"https://colab.research.google.com/assets/colab-badge.svg\" alt=\"Open In Colab\"/></a>"
      ]
    },
    {
      "cell_type": "code",
      "execution_count": null,
      "metadata": {
        "colab": {
          "base_uri": "https://localhost:8080/"
        },
        "id": "rb6Cu45YymIa",
        "outputId": "e867243f-90f5-4429-fa71-5df2ab8dd0eb"
      },
      "outputs": [
        {
          "output_type": "stream",
          "name": "stdout",
          "text": [
            "hello world!\n"
          ]
        }
      ],
      "source": [
        "print('hello world!')"
      ]
    },
    {
      "cell_type": "code",
      "source": [
        "chr(79) + chr(108) + chr(225)"
      ],
      "metadata": {
        "id": "sZnrJt7A3A5S",
        "colab": {
          "base_uri": "https://localhost:8080/",
          "height": 36
        },
        "outputId": "035bb3e5-165f-43b4-9227-3c6f692ebb63"
      },
      "execution_count": null,
      "outputs": [
        {
          "output_type": "execute_result",
          "data": {
            "text/plain": [
              "'Olá'"
            ],
            "application/vnd.google.colaboratory.intrinsic+json": {
              "type": "string"
            }
          },
          "metadata": {},
          "execution_count": 9
        }
      ]
    },
    {
      "cell_type": "code",
      "source": [
        "#exercicio 1\n",
        "\n",
        "nome = input('Digite seu nome:  ')\n",
        "idade = int(input('Digite sua idade: '))\n",
        "altura = float(input('Digite sua altura:  '))\n",
        "print(f'Olá, {nome}. Você tem {idade} anos. Você mede {altura} metros!')"
      ],
      "metadata": {
        "colab": {
          "base_uri": "https://localhost:8080/"
        },
        "id": "ju8pzs7U8P9y",
        "outputId": "11f48943-841f-4bb7-fd4a-e010f22faa82"
      },
      "execution_count": null,
      "outputs": [
        {
          "output_type": "stream",
          "name": "stdout",
          "text": [
            "Digite seu nome:  Gustavo\n",
            "Digite sua idade: 21\n",
            "Digite sua altura:  1.76\n",
            "Olá, Gustavo. Você tem 21 anos. Você mede 1.76 metros!\n"
          ]
        }
      ]
    },
    {
      "cell_type": "code",
      "source": [
        "#exercicio 2\n",
        "\n",
        "numero_um = float(input('Digite um número: '))\n",
        "numero_dois = float(input('Digite um número: '))\n",
        "\n",
        "if numero_dois == 0:\n",
        "  mensagem = 'divisão por zero, impossível realizá-la'\n",
        "  print(f'A divisão dos números é de: {mensagem}')\n",
        "\n",
        "else:\n",
        "  divisao = numero_um / numero_dois\n",
        "  print(f'A divisão dos números é de: {divisao}')\n",
        "\n",
        "soma = numero_um + numero_dois\n",
        "multiplicacao = numero_um * numero_dois\n",
        "subtracao = numero_um - numero_dois\n",
        "potencia = numero_um ** numero_dois\n",
        "\n",
        "print(f'A soma dos números é de: {soma}')\n",
        "\n",
        "print(f'A multiplicação dos números é de: {multiplicacao}')\n",
        "print(f'A subtração dos números é de: {subtracao}')\n",
        "print(f'A potência dos números é de: {potencia}')"
      ],
      "metadata": {
        "colab": {
          "base_uri": "https://localhost:8080/"
        },
        "id": "tFNC6taO8YjL",
        "outputId": "12abdc80-770b-4e61-b8c5-f0bc3c711533"
      },
      "execution_count": 3,
      "outputs": [
        {
          "output_type": "stream",
          "name": "stdout",
          "text": [
            "Digite um número: 2\n",
            "Digite um número: 0\n",
            "A divisão dos números é de: divisão por zero, impossível realizá-la\n",
            "A soma dos números é de: 2.0\n",
            "A multiplicação dos números é de: 0.0\n",
            "A subtração dos números é de: 2.0\n",
            "A potência dos números é de: 1.0\n"
          ]
        }
      ]
    },
    {
      "cell_type": "code",
      "source": [
        "media = float(input('Digite a média: '))\n",
        "\n",
        "if media > 10:\n",
        "  media = 10\n",
        "\n",
        "print(media)"
      ],
      "metadata": {
        "colab": {
          "base_uri": "https://localhost:8080/"
        },
        "id": "5S5M3E5RZNiy",
        "outputId": "cc440db3-2108-4c92-eae7-6ad87996769b"
      },
      "execution_count": 2,
      "outputs": [
        {
          "output_type": "stream",
          "name": "stdout",
          "text": [
            "Digite a média: 12546\n",
            "10\n"
          ]
        }
      ]
    },
    {
      "cell_type": "code",
      "source": [
        "letra = input('Digite uma letra: ')\n",
        "\n",
        "vogais = {'a', 'e', 'i', 'o', 'u'}\n",
        "\n",
        "if letra in vogais:\n",
        "  print(f'{letra} é uma vogal')\n",
        "else:\n",
        "  print(f'{letra} é uma consoante')"
      ],
      "metadata": {
        "colab": {
          "base_uri": "https://localhost:8080/"
        },
        "id": "zxckZeUjf1KL",
        "outputId": "ca928da8-f080-44f7-c2a7-3d60d2dd3cda"
      },
      "execution_count": 5,
      "outputs": [
        {
          "output_type": "stream",
          "name": "stdout",
          "text": [
            "Digite uma letra: a\n",
            "a é uma vogal\n"
          ]
        }
      ]
    },
    {
      "cell_type": "code",
      "source": [
        "vendas = int(input('Digite o valor das vendas: '))\n",
        "\n",
        "#ternario em python\n",
        "\n",
        "bonus = 50 if vendas > 500 else 0\n",
        "print(f'o bonus foi de: {bonus}')"
      ],
      "metadata": {
        "colab": {
          "base_uri": "https://localhost:8080/"
        },
        "id": "bV31Vo1Jg8t6",
        "outputId": "894b4c16-1b82-40e5-ec83-8867cf6cb614"
      },
      "execution_count": 9,
      "outputs": [
        {
          "output_type": "stream",
          "name": "stdout",
          "text": [
            "Digite o valor das vendas: 499\n",
            "o bonus foi de: 0\n"
          ]
        }
      ]
    },
    {
      "cell_type": "code",
      "source": [
        "numero_1 = int(input('Digite um numero: '))\n",
        "numero_2 = int(input('Digite um numero: '))\n",
        "\n",
        "for i in range(numero_1+1, numero_2):\n",
        "  print(i)\n"
      ],
      "metadata": {
        "colab": {
          "base_uri": "https://localhost:8080/"
        },
        "id": "Kf7NY7UT3KMv",
        "outputId": "63afbbb7-10f8-490b-a8aa-73e145498d40"
      },
      "execution_count": 11,
      "outputs": [
        {
          "output_type": "stream",
          "name": "stdout",
          "text": [
            "Digite um numero: 1\n",
            "Digite um numero: 10\n",
            "2\n",
            "3\n",
            "4\n",
            "5\n",
            "6\n",
            "7\n",
            "8\n",
            "9\n"
          ]
        }
      ]
    }
  ]
}