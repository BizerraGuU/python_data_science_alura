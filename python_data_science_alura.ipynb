{
  "nbformat": 4,
  "nbformat_minor": 0,
  "metadata": {
    "colab": {
      "provenance": [],
      "authorship_tag": "ABX9TyMJTP5A/OHPh4+V23Mwm7M+",
      "include_colab_link": true
    },
    "kernelspec": {
      "name": "python3",
      "display_name": "Python 3"
    },
    "language_info": {
      "name": "python"
    }
  },
  "cells": [
    {
      "cell_type": "markdown",
      "metadata": {
        "id": "view-in-github",
        "colab_type": "text"
      },
      "source": [
        "<a href=\"https://colab.research.google.com/github/BizerraGuU/python_data_science_alura/blob/main/python_data_science_alura.ipynb\" target=\"_parent\"><img src=\"https://colab.research.google.com/assets/colab-badge.svg\" alt=\"Open In Colab\"/></a>"
      ]
    },
    {
      "cell_type": "code",
      "execution_count": null,
      "metadata": {
        "colab": {
          "base_uri": "https://localhost:8080/"
        },
        "id": "rb6Cu45YymIa",
        "outputId": "e867243f-90f5-4429-fa71-5df2ab8dd0eb"
      },
      "outputs": [
        {
          "output_type": "stream",
          "name": "stdout",
          "text": [
            "hello world!\n"
          ]
        }
      ],
      "source": [
        "print('hello world!')"
      ]
    },
    {
      "cell_type": "code",
      "source": [
        "chr(79) + chr(108) + chr(225)"
      ],
      "metadata": {
        "id": "sZnrJt7A3A5S",
        "colab": {
          "base_uri": "https://localhost:8080/",
          "height": 36
        },
        "outputId": "035bb3e5-165f-43b4-9227-3c6f692ebb63"
      },
      "execution_count": 9,
      "outputs": [
        {
          "output_type": "execute_result",
          "data": {
            "text/plain": [
              "'Olá'"
            ],
            "application/vnd.google.colaboratory.intrinsic+json": {
              "type": "string"
            }
          },
          "metadata": {},
          "execution_count": 9
        }
      ]
    },
    {
      "cell_type": "code",
      "source": [
        "#exercicio 1\n",
        "\n",
        "nome = input('Digite seu nome:  ')\n",
        "idade = int(input('Digite sua idade: '))\n",
        "altura = float(input('Digite sua altura:  '))\n",
        "print(f'Olá, {nome}. Você tem {idade} anos. Você mede {altura} metros!')"
      ],
      "metadata": {
        "colab": {
          "base_uri": "https://localhost:8080/"
        },
        "id": "ju8pzs7U8P9y",
        "outputId": "11f48943-841f-4bb7-fd4a-e010f22faa82"
      },
      "execution_count": 12,
      "outputs": [
        {
          "output_type": "stream",
          "name": "stdout",
          "text": [
            "Digite seu nome:  Gustavo\n",
            "Digite sua idade: 21\n",
            "Digite sua altura:  1.76\n",
            "Olá, Gustavo. Você tem 21 anos. Você mede 1.76 metros!\n"
          ]
        }
      ]
    },
    {
      "cell_type": "code",
      "source": [
        "#exercicio 2\n",
        "\n",
        "numero_um = float(input('Digite um número: '))\n",
        "numero_dois = float(input('Digite um número: '))\n",
        "\n",
        "soma = numero_um + numero_dois\n",
        "divisao = numero_um / numero_dois\n",
        "multiplicacao = numero_um * numero_dois\n",
        "subtracao = numero_um - numero_dois\n",
        "potencia = numero_um ** numero_dois\n",
        "\n",
        "print(f'A soma dos números é de: {soma}')\n",
        "print(f'A divisão dos números é de: {divisao}')\n",
        "print(f'A multiplicação dos números é de: {multiplicacao}')\n",
        "print(f'A subtração dos números é de: {subtracao}')\n",
        "print(f'A potência dos números é de: {potencia}')"
      ],
      "metadata": {
        "colab": {
          "base_uri": "https://localhost:8080/"
        },
        "id": "tFNC6taO8YjL",
        "outputId": "3190d224-5e03-43e5-98c2-5179c9937e03"
      },
      "execution_count": 13,
      "outputs": [
        {
          "output_type": "stream",
          "name": "stdout",
          "text": [
            "Digite um número: 2\n",
            "Digite um número: 2\n",
            "A soma dos números é de: 4.0\n",
            "A divisão dos números é de: 1.0\n",
            "A multiplicação dos números é de: 4.0\n",
            "A subtração dos números é de: 0.0\n",
            "A potência dos números é de: 4.0\n"
          ]
        }
      ]
    }
  ]
}