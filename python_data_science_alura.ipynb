{
  "nbformat": 4,
  "nbformat_minor": 0,
  "metadata": {
    "colab": {
      "provenance": [],
      "authorship_tag": "ABX9TyMS7ubiSOEC8fs6yoA6nkgr",
      "include_colab_link": true
    },
    "kernelspec": {
      "name": "python3",
      "display_name": "Python 3"
    },
    "language_info": {
      "name": "python"
    }
  },
  "cells": [
    {
      "cell_type": "markdown",
      "metadata": {
        "id": "view-in-github",
        "colab_type": "text"
      },
      "source": [
        "<a href=\"https://colab.research.google.com/github/BizerraGuU/python_data_science_alura/blob/main/python_data_science_alura.ipynb\" target=\"_parent\"><img src=\"https://colab.research.google.com/assets/colab-badge.svg\" alt=\"Open In Colab\"/></a>"
      ]
    },
    {
      "cell_type": "code",
      "execution_count": null,
      "metadata": {
        "colab": {
          "base_uri": "https://localhost:8080/"
        },
        "id": "rb6Cu45YymIa",
        "outputId": "e867243f-90f5-4429-fa71-5df2ab8dd0eb"
      },
      "outputs": [
        {
          "output_type": "stream",
          "name": "stdout",
          "text": [
            "hello world!\n"
          ]
        }
      ],
      "source": [
        "print('hello world!')"
      ]
    },
    {
      "cell_type": "code",
      "source": [
        "chr(79) + chr(108) + chr(225)"
      ],
      "metadata": {
        "id": "sZnrJt7A3A5S",
        "colab": {
          "base_uri": "https://localhost:8080/",
          "height": 36
        },
        "outputId": "035bb3e5-165f-43b4-9227-3c6f692ebb63"
      },
      "execution_count": null,
      "outputs": [
        {
          "output_type": "execute_result",
          "data": {
            "text/plain": [
              "'Olá'"
            ],
            "application/vnd.google.colaboratory.intrinsic+json": {
              "type": "string"
            }
          },
          "metadata": {},
          "execution_count": 9
        }
      ]
    },
    {
      "cell_type": "code",
      "source": [
        "#exercicio 1\n",
        "\n",
        "nome = input('Digite seu nome:  ')\n",
        "idade = int(input('Digite sua idade: '))\n",
        "altura = float(input('Digite sua altura:  '))\n",
        "print(f'Olá, {nome}. Você tem {idade} anos. Você mede {altura} metros!')"
      ],
      "metadata": {
        "colab": {
          "base_uri": "https://localhost:8080/"
        },
        "id": "ju8pzs7U8P9y",
        "outputId": "11f48943-841f-4bb7-fd4a-e010f22faa82"
      },
      "execution_count": null,
      "outputs": [
        {
          "output_type": "stream",
          "name": "stdout",
          "text": [
            "Digite seu nome:  Gustavo\n",
            "Digite sua idade: 21\n",
            "Digite sua altura:  1.76\n",
            "Olá, Gustavo. Você tem 21 anos. Você mede 1.76 metros!\n"
          ]
        }
      ]
    },
    {
      "cell_type": "code",
      "source": [
        "#exercicio 2\n",
        "\n",
        "numero_um = float(input('Digite um número: '))\n",
        "numero_dois = float(input('Digite um número: '))\n",
        "\n",
        "if numero_dois == 0:\n",
        "  mensagem = 'divisão por zero, impossível realizá-la'\n",
        "  print(f'A divisão dos números é de: {mensagem}')\n",
        "\n",
        "else:\n",
        "  divisao = numero_um / numero_dois\n",
        "  print(f'A divisão dos números é de: {divisao}')\n",
        "\n",
        "soma = numero_um + numero_dois\n",
        "multiplicacao = numero_um * numero_dois\n",
        "subtracao = numero_um - numero_dois\n",
        "potencia = numero_um ** numero_dois\n",
        "\n",
        "print(f'A soma dos números é de: {soma}')\n",
        "\n",
        "print(f'A multiplicação dos números é de: {multiplicacao}')\n",
        "print(f'A subtração dos números é de: {subtracao}')\n",
        "print(f'A potência dos números é de: {potencia}')"
      ],
      "metadata": {
        "colab": {
          "base_uri": "https://localhost:8080/"
        },
        "id": "tFNC6taO8YjL",
        "outputId": "12abdc80-770b-4e61-b8c5-f0bc3c711533"
      },
      "execution_count": null,
      "outputs": [
        {
          "output_type": "stream",
          "name": "stdout",
          "text": [
            "Digite um número: 2\n",
            "Digite um número: 0\n",
            "A divisão dos números é de: divisão por zero, impossível realizá-la\n",
            "A soma dos números é de: 2.0\n",
            "A multiplicação dos números é de: 0.0\n",
            "A subtração dos números é de: 2.0\n",
            "A potência dos números é de: 1.0\n"
          ]
        }
      ]
    },
    {
      "cell_type": "code",
      "source": [
        "media = float(input('Digite a média: '))\n",
        "\n",
        "if media > 10:\n",
        "  media = 10\n",
        "\n",
        "print(media)"
      ],
      "metadata": {
        "colab": {
          "base_uri": "https://localhost:8080/"
        },
        "id": "5S5M3E5RZNiy",
        "outputId": "cc440db3-2108-4c92-eae7-6ad87996769b"
      },
      "execution_count": null,
      "outputs": [
        {
          "output_type": "stream",
          "name": "stdout",
          "text": [
            "Digite a média: 12546\n",
            "10\n"
          ]
        }
      ]
    },
    {
      "cell_type": "code",
      "source": [
        "letra = input('Digite uma letra: ')\n",
        "\n",
        "vogais = {'a', 'e', 'i', 'o', 'u'}\n",
        "\n",
        "if letra in vogais:\n",
        "  print(f'{letra} é uma vogal')\n",
        "else:\n",
        "  print(f'{letra} é uma consoante')"
      ],
      "metadata": {
        "colab": {
          "base_uri": "https://localhost:8080/"
        },
        "id": "zxckZeUjf1KL",
        "outputId": "ca928da8-f080-44f7-c2a7-3d60d2dd3cda"
      },
      "execution_count": null,
      "outputs": [
        {
          "output_type": "stream",
          "name": "stdout",
          "text": [
            "Digite uma letra: a\n",
            "a é uma vogal\n"
          ]
        }
      ]
    },
    {
      "cell_type": "code",
      "source": [
        "vendas = int(input('Digite o valor das vendas: '))\n",
        "\n",
        "#ternario em python\n",
        "\n",
        "bonus = 50 if vendas > 500 else 0\n",
        "print(f'o bonus foi de: {bonus}')"
      ],
      "metadata": {
        "colab": {
          "base_uri": "https://localhost:8080/"
        },
        "id": "bV31Vo1Jg8t6",
        "outputId": "894b4c16-1b82-40e5-ec83-8867cf6cb614"
      },
      "execution_count": null,
      "outputs": [
        {
          "output_type": "stream",
          "name": "stdout",
          "text": [
            "Digite o valor das vendas: 499\n",
            "o bonus foi de: 0\n"
          ]
        }
      ]
    },
    {
      "cell_type": "code",
      "source": [
        "numero_1 = int(input('Digite um numero: '))\n",
        "numero_2 = int(input('Digite um numero: '))\n",
        "\n",
        "for i in range(numero_1+1, numero_2):\n",
        "  print(i)\n"
      ],
      "metadata": {
        "colab": {
          "base_uri": "https://localhost:8080/"
        },
        "id": "Kf7NY7UT3KMv",
        "outputId": "63afbbb7-10f8-490b-a8aa-73e145498d40"
      },
      "execution_count": null,
      "outputs": [
        {
          "output_type": "stream",
          "name": "stdout",
          "text": [
            "Digite um numero: 1\n",
            "Digite um numero: 10\n",
            "2\n",
            "3\n",
            "4\n",
            "5\n",
            "6\n",
            "7\n",
            "8\n",
            "9\n"
          ]
        }
      ]
    },
    {
      "cell_type": "code",
      "source": [
        "!pip install matplotlib"
      ],
      "metadata": {
        "colab": {
          "base_uri": "https://localhost:8080/"
        },
        "id": "zgOf1tJT7orj",
        "outputId": "c01dd414-77e1-4afe-8ace-f88f8577f04c"
      },
      "execution_count": null,
      "outputs": [
        {
          "output_type": "stream",
          "name": "stdout",
          "text": [
            "Requirement already satisfied: matplotlib in /usr/local/lib/python3.10/dist-packages (3.7.1)\n",
            "Requirement already satisfied: contourpy>=1.0.1 in /usr/local/lib/python3.10/dist-packages (from matplotlib) (1.3.0)\n",
            "Requirement already satisfied: cycler>=0.10 in /usr/local/lib/python3.10/dist-packages (from matplotlib) (0.12.1)\n",
            "Requirement already satisfied: fonttools>=4.22.0 in /usr/local/lib/python3.10/dist-packages (from matplotlib) (4.53.1)\n",
            "Requirement already satisfied: kiwisolver>=1.0.1 in /usr/local/lib/python3.10/dist-packages (from matplotlib) (1.4.7)\n",
            "Requirement already satisfied: numpy>=1.20 in /usr/local/lib/python3.10/dist-packages (from matplotlib) (1.26.4)\n",
            "Requirement already satisfied: packaging>=20.0 in /usr/local/lib/python3.10/dist-packages (from matplotlib) (24.1)\n",
            "Requirement already satisfied: pillow>=6.2.0 in /usr/local/lib/python3.10/dist-packages (from matplotlib) (9.4.0)\n",
            "Requirement already satisfied: pyparsing>=2.3.1 in /usr/local/lib/python3.10/dist-packages (from matplotlib) (3.1.4)\n",
            "Requirement already satisfied: python-dateutil>=2.7 in /usr/local/lib/python3.10/dist-packages (from matplotlib) (2.8.2)\n",
            "Requirement already satisfied: six>=1.5 in /usr/local/lib/python3.10/dist-packages (from python-dateutil>=2.7->matplotlib) (1.16.0)\n"
          ]
        }
      ]
    },
    {
      "cell_type": "code",
      "source": [
        "import math\n",
        "\n",
        "receita = 1000\n",
        "unidade = 15\n",
        "\n",
        "print(f\" A empresa vendeu aproximadamente {math.ceil(receita/unidade)} unidades\")"
      ],
      "metadata": {
        "colab": {
          "base_uri": "https://localhost:8080/"
        },
        "id": "utIXfWdR7y8s",
        "outputId": "d63fedb7-3b38-48e0-d4b8-8104f1a517b0"
      },
      "execution_count": null,
      "outputs": [
        {
          "output_type": "stream",
          "name": "stdout",
          "text": [
            " A empresa vendeu aproximadamente 67 unidades\n"
          ]
        }
      ]
    },
    {
      "cell_type": "code",
      "source": [
        "from random import choices, randrange\n",
        "import math\n",
        "\n",
        "numero2 = randrange(100)\n",
        "print(numero2)\n",
        "\n",
        "lista = [8, 12, 54, 23, 43, 1, 90, 87, 105, 77]\n",
        "\n",
        "numero = choices(lista)\n",
        "\n",
        "print(numero)\n",
        "\n",
        "num_1 = int(input('Digite um número: '))\n",
        "potencia = int(input('Digite a qual potência: '))\n",
        "\n",
        "print(pow(num_1, potencia))"
      ],
      "metadata": {
        "colab": {
          "base_uri": "https://localhost:8080/"
        },
        "id": "7_T1V_Za8KO_",
        "outputId": "b0d302ed-d81e-4e62-83d3-92e30fa162b6"
      },
      "execution_count": null,
      "outputs": [
        {
          "output_type": "stream",
          "name": "stdout",
          "text": [
            "78\n",
            "[77]\n",
            "Digite um número: 10\n",
            "Digite a qual potência: 2\n",
            "100\n"
          ]
        }
      ]
    },
    {
      "cell_type": "code",
      "source": [
        "lista_exercicio_lambda = [16, 14, 63, 65, 17, 99, 70, 11, 20, 48, 79, 32, 17, 89, 12, 25, 66]\n",
        "\n",
        "tam = len(lista_exercicio_lambda)\n",
        "soma = sum(lista_exercicio_lambda)\n",
        "maior_numero = max(lista_exercicio_lambda)\n",
        "menor_numero = min(lista_exercicio_lambda)\n",
        "\n",
        "print(f'A lista possui [{tam}] números em que o maior número é [{maior_numero}] e o menor número é [{menor_numero}]. A soma dos valores presentes nela é igual a [{soma}]')"
      ],
      "metadata": {
        "id": "yDx935RFAMG1",
        "colab": {
          "base_uri": "https://localhost:8080/"
        },
        "outputId": "91e6f072-1637-4cb1-97bc-252eb79e048b"
      },
      "execution_count": null,
      "outputs": [
        {
          "output_type": "stream",
          "name": "stdout",
          "text": [
            "A lista possui 17 números em que o maior número é [99] e o menor número é [11]. A soma dos valores presentes nela é igual a [743]\n"
          ]
        }
      ]
    },
    {
      "cell_type": "code",
      "source": [
        "def tabuada(x):\n",
        "\n",
        "  for i in range(0, 11, 1):\n",
        "      print(f'{i} x {x} = {i * x}')\n",
        "\n",
        "tabuada(7)"
      ],
      "metadata": {
        "colab": {
          "base_uri": "https://localhost:8080/"
        },
        "id": "iPAjGvfeq4CU",
        "outputId": "364226ee-638b-4e2d-8afd-6cdb60127071"
      },
      "execution_count": null,
      "outputs": [
        {
          "output_type": "stream",
          "name": "stdout",
          "text": [
            "0 x 7 = 0\n",
            "1 x 7 = 7\n",
            "2 x 7 = 14\n",
            "3 x 7 = 21\n",
            "4 x 7 = 28\n",
            "5 x 7 = 35\n",
            "6 x 7 = 42\n",
            "7 x 7 = 49\n",
            "8 x 7 = 56\n",
            "9 x 7 = 63\n",
            "10 x 7 = 70\n"
          ]
        }
      ]
    },
    {
      "cell_type": "code",
      "source": [
        "listinha = [97, 80, 94, 88, 80, 1, 16, 53, 62, 32, 24, 99]\n",
        "\n",
        "def multiplo_tres(lista):\n",
        "  mult_3 = []\n",
        "  for n in lista:\n",
        "    if n % 3 == 0:\n",
        "      mult_3.append(n)\n",
        "\n",
        "  return mult_3\n",
        "\n",
        "multiplo_tres(listinha)"
      ],
      "metadata": {
        "colab": {
          "base_uri": "https://localhost:8080/"
        },
        "id": "B-IkCeQprxbt",
        "outputId": "daaa1d55-0867-4bbe-9b66-e09899e0d0c8"
      },
      "execution_count": null,
      "outputs": [
        {
          "output_type": "execute_result",
          "data": {
            "text/plain": [
              "[24, 99]"
            ]
          },
          "metadata": {},
          "execution_count": 17
        }
      ]
    },
    {
      "cell_type": "code",
      "source": [
        "listona = [1, 2, 3, 4, 5, 6, 7, 8, 9, 10]\n",
        "\n",
        "quadrado = list(map(lambda x: x**2, listona))\n",
        "\n",
        "quadrado"
      ],
      "metadata": {
        "colab": {
          "base_uri": "https://localhost:8080/"
        },
        "id": "E2k-VaDGsQTe",
        "outputId": "4d8bbc93-c4d6-45d7-981c-edaf5a7d672b"
      },
      "execution_count": null,
      "outputs": [
        {
          "output_type": "execute_result",
          "data": {
            "text/plain": [
              "[1, 4, 9, 16, 25, 36, 49, 64, 81, 100]"
            ]
          },
          "metadata": {},
          "execution_count": 18
        }
      ]
    },
    {
      "cell_type": "code",
      "source": [
        "\n",
        "def calcula_media():\n",
        "  total = []\n",
        "  for n in range(0, 5, 1):\n",
        "    total.append(float(input('Digite a nota da manobra: ')))\n",
        "\n",
        "  total.remove(max(total))\n",
        "  total.remove(min(total))\n",
        "\n",
        "  media = sum(total)/len(total)\n",
        "\n",
        "  return f\"Nota da manobra: {round(media, 2)}\"\n",
        "\n",
        "calcula_media()"
      ],
      "metadata": {
        "colab": {
          "base_uri": "https://localhost:8080/",
          "height": 122
        },
        "id": "b1r8cTRDsrtD",
        "outputId": "58db7384-ccce-4ca3-a4a3-61316a640007"
      },
      "execution_count": null,
      "outputs": [
        {
          "name": "stdout",
          "output_type": "stream",
          "text": [
            "Digite a nota da manobra: 1\n",
            "Digite a nota da manobra: 2\n",
            "Digite a nota da manobra: 5\n",
            "Digite a nota da manobra: 9\n",
            "Digite a nota da manobra: 10\n"
          ]
        },
        {
          "output_type": "execute_result",
          "data": {
            "text/plain": [
              "'Nota da manobra: 5.33'"
            ],
            "application/vnd.google.colaboratory.intrinsic+json": {
              "type": "string"
            }
          },
          "metadata": {},
          "execution_count": 3
        }
      ]
    },
    {
      "cell_type": "code",
      "source": [
        "def retorna_notas(lista):\n",
        "  maior_nota = max(lista)\n",
        "  menor_nota = min(lista)\n",
        "\n",
        "  if 0 > menor_nota:\n",
        "    menor_nota = 0\n",
        "\n",
        "  media = sum(lista)/len(lista)\n",
        "\n",
        "  if media > 10:\n",
        "    media = 10\n",
        "\n",
        "  if media < 0:\n",
        "    media = 0\n",
        "\n",
        "  if media >= 6:\n",
        "    situacao = 'Aprovado(a)'\n",
        "\n",
        "  if media < 6:\n",
        "    situacao = 'Reprovado(a)'\n",
        "\n",
        "  return f\"O(a) estudante obteve uma média de [{media}], com a sua maior nota de [{maior_nota}] pontos e a menor nota de [{menor_nota}] pontos e foi [{situacao}]\"\n",
        "\n",
        "listinhosa = [-10, 7.5, 8, 8]\n",
        "\n",
        "retorna_notas(listinhosa)"
      ],
      "metadata": {
        "colab": {
          "base_uri": "https://localhost:8080/",
          "height": 36
        },
        "id": "57dgskXhu-eZ",
        "outputId": "05931b5f-2771-464e-bcbe-3192918b4a18"
      },
      "execution_count": null,
      "outputs": [
        {
          "output_type": "execute_result",
          "data": {
            "text/plain": [
              "'O(a) estudante obteve uma média de [3.375], com a sua maior nota de [8] pontos e a menor nota de [0] pontos e foi [Reprovado(a)]'"
            ],
            "application/vnd.google.colaboratory.intrinsic+json": {
              "type": "string"
            }
          },
          "metadata": {},
          "execution_count": 12
        }
      ]
    },
    {
      "cell_type": "code",
      "source": [
        "nomes = [\"joão\", \"MaRia\", \"JOSÉ\"]\n",
        "sobrenomes = [\"SILVA\", \"souza\", \"Tavares\"]\n",
        "\n",
        "\n",
        "nomes_completos = list(map(lambda x , y: x.capitalize() + ' ' + y.capitalize(), nomes, sobrenomes))\n",
        "\n",
        "nomes_completos"
      ],
      "metadata": {
        "colab": {
          "base_uri": "https://localhost:8080/"
        },
        "id": "ZshquDG7w-NS",
        "outputId": "360cbfae-de25-45f6-c01a-7b8a67ca63b2"
      },
      "execution_count": 26,
      "outputs": [
        {
          "output_type": "execute_result",
          "data": {
            "text/plain": [
              "['João Silva', 'Maria Souza', 'José Tavares']"
            ]
          },
          "metadata": {},
          "execution_count": 26
        }
      ]
    }
  ]
}